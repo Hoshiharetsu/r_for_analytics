{
 "cells": [
  {
   "cell_type": "code",
   "execution_count": 2,
   "metadata": {
    "scrolled": true
   },
   "outputs": [
    {
     "data": {
      "text/html": [
       "<table>\n",
       "<thead><tr><th scope=col>CLPID</th><th scope=col>Name</th><th scope=col>Year</th><th scope=col>Month</th><th scope=col>WifiSessions</th><th scope=col>WifiMinutes</th></tr></thead>\n",
       "<tbody>\n",
       "\t<tr><td>CLP01            </td><td>ALLEGHENY LIBRARY</td><td>2016             </td><td>1                </td><td>1037             </td><td>148513           </td></tr>\n",
       "\t<tr><td>CLP01            </td><td>ALLEGHENY LIBRARY</td><td>2016             </td><td>2                </td><td>1064             </td><td>150948           </td></tr>\n",
       "\t<tr><td>CLP01            </td><td>ALLEGHENY LIBRARY</td><td>2016             </td><td>3                </td><td> 949             </td><td>129484           </td></tr>\n",
       "\t<tr><td>CLP01            </td><td>ALLEGHENY LIBRARY</td><td>2016             </td><td>4                </td><td> 934             </td><td>136196           </td></tr>\n",
       "\t<tr><td>CLP01            </td><td>ALLEGHENY LIBRARY</td><td>2016             </td><td>5                </td><td>1018             </td><td>135793           </td></tr>\n",
       "\t<tr><td>CLP01            </td><td>ALLEGHENY LIBRARY</td><td>2016             </td><td>6                </td><td>1163             </td><td>169426           </td></tr>\n",
       "</tbody>\n",
       "</table>\n"
      ],
      "text/latex": [
       "\\begin{tabular}{r|llllll}\n",
       " CLPID & Name & Year & Month & WifiSessions & WifiMinutes\\\\\n",
       "\\hline\n",
       "\t CLP01             & ALLEGHENY LIBRARY & 2016              & 1                 & 1037              & 148513           \\\\\n",
       "\t CLP01             & ALLEGHENY LIBRARY & 2016              & 2                 & 1064              & 150948           \\\\\n",
       "\t CLP01             & ALLEGHENY LIBRARY & 2016              & 3                 &  949              & 129484           \\\\\n",
       "\t CLP01             & ALLEGHENY LIBRARY & 2016              & 4                 &  934              & 136196           \\\\\n",
       "\t CLP01             & ALLEGHENY LIBRARY & 2016              & 5                 & 1018              & 135793           \\\\\n",
       "\t CLP01             & ALLEGHENY LIBRARY & 2016              & 6                 & 1163              & 169426           \\\\\n",
       "\\end{tabular}\n"
      ],
      "text/markdown": [
       "\n",
       "| CLPID | Name | Year | Month | WifiSessions | WifiMinutes |\n",
       "|---|---|---|---|---|---|\n",
       "| CLP01             | ALLEGHENY LIBRARY | 2016              | 1                 | 1037              | 148513            |\n",
       "| CLP01             | ALLEGHENY LIBRARY | 2016              | 2                 | 1064              | 150948            |\n",
       "| CLP01             | ALLEGHENY LIBRARY | 2016              | 3                 |  949              | 129484            |\n",
       "| CLP01             | ALLEGHENY LIBRARY | 2016              | 4                 |  934              | 136196            |\n",
       "| CLP01             | ALLEGHENY LIBRARY | 2016              | 5                 | 1018              | 135793            |\n",
       "| CLP01             | ALLEGHENY LIBRARY | 2016              | 6                 | 1163              | 169426            |\n",
       "\n"
      ],
      "text/plain": [
       "  CLPID Name              Year Month WifiSessions WifiMinutes\n",
       "1 CLP01 ALLEGHENY LIBRARY 2016 1     1037         148513     \n",
       "2 CLP01 ALLEGHENY LIBRARY 2016 2     1064         150948     \n",
       "3 CLP01 ALLEGHENY LIBRARY 2016 3      949         129484     \n",
       "4 CLP01 ALLEGHENY LIBRARY 2016 4      934         136196     \n",
       "5 CLP01 ALLEGHENY LIBRARY 2016 5     1018         135793     \n",
       "6 CLP01 ALLEGHENY LIBRARY 2016 6     1163         169426     "
      ]
     },
     "metadata": {},
     "output_type": "display_data"
    },
    {
     "data": {
      "text/html": [
       "<table>\n",
       "<thead><tr><th scope=col>CLPID</th><th scope=col>Name</th><th scope=col>Year</th><th scope=col>Month</th><th scope=col>WifiSessions</th><th scope=col>WifiMinutes</th></tr></thead>\n",
       "<tbody>\n",
       "\t<tr><td>CLP42            </td><td>DAT-204 Library! </td><td>2020             </td><td>10               </td><td>   9             </td><td>42424242         </td></tr>\n",
       "\t<tr><td>CLP01            </td><td>ALLEGHENY LIBRARY</td><td>2016             </td><td> 1               </td><td>1037             </td><td>  148513         </td></tr>\n",
       "\t<tr><td>CLP01            </td><td>ALLEGHENY LIBRARY</td><td>2016             </td><td> 2               </td><td>1064             </td><td>  150948         </td></tr>\n",
       "\t<tr><td>CLP01            </td><td>ALLEGHENY LIBRARY</td><td>2016             </td><td> 3               </td><td> 949             </td><td>  129484         </td></tr>\n",
       "\t<tr><td>CLP01            </td><td>ALLEGHENY LIBRARY</td><td>2016             </td><td> 4               </td><td> 934             </td><td>  136196         </td></tr>\n",
       "\t<tr><td>CLP01            </td><td>ALLEGHENY LIBRARY</td><td>2016             </td><td> 5               </td><td>1018             </td><td>  135793         </td></tr>\n",
       "</tbody>\n",
       "</table>\n"
      ],
      "text/latex": [
       "\\begin{tabular}{r|llllll}\n",
       " CLPID & Name & Year & Month & WifiSessions & WifiMinutes\\\\\n",
       "\\hline\n",
       "\t CLP42             & DAT-204 Library!  & 2020              & 10                &    9              & 42424242         \\\\\n",
       "\t CLP01             & ALLEGHENY LIBRARY & 2016              &  1                & 1037              &   148513         \\\\\n",
       "\t CLP01             & ALLEGHENY LIBRARY & 2016              &  2                & 1064              &   150948         \\\\\n",
       "\t CLP01             & ALLEGHENY LIBRARY & 2016              &  3                &  949              &   129484         \\\\\n",
       "\t CLP01             & ALLEGHENY LIBRARY & 2016              &  4                &  934              &   136196         \\\\\n",
       "\t CLP01             & ALLEGHENY LIBRARY & 2016              &  5                & 1018              &   135793         \\\\\n",
       "\\end{tabular}\n"
      ],
      "text/markdown": [
       "\n",
       "| CLPID | Name | Year | Month | WifiSessions | WifiMinutes |\n",
       "|---|---|---|---|---|---|\n",
       "| CLP42             | DAT-204 Library!  | 2020              | 10                |    9              | 42424242          |\n",
       "| CLP01             | ALLEGHENY LIBRARY | 2016              |  1                | 1037              |   148513          |\n",
       "| CLP01             | ALLEGHENY LIBRARY | 2016              |  2                | 1064              |   150948          |\n",
       "| CLP01             | ALLEGHENY LIBRARY | 2016              |  3                |  949              |   129484          |\n",
       "| CLP01             | ALLEGHENY LIBRARY | 2016              |  4                |  934              |   136196          |\n",
       "| CLP01             | ALLEGHENY LIBRARY | 2016              |  5                | 1018              |   135793          |\n",
       "\n"
      ],
      "text/plain": [
       "  CLPID Name              Year Month WifiSessions WifiMinutes\n",
       "1 CLP42 DAT-204 Library!  2020 10       9         42424242   \n",
       "2 CLP01 ALLEGHENY LIBRARY 2016  1    1037           148513   \n",
       "3 CLP01 ALLEGHENY LIBRARY 2016  2    1064           150948   \n",
       "4 CLP01 ALLEGHENY LIBRARY 2016  3     949           129484   \n",
       "5 CLP01 ALLEGHENY LIBRARY 2016  4     934           136196   \n",
       "6 CLP01 ALLEGHENY LIBRARY 2016  5    1018           135793   "
      ]
     },
     "metadata": {},
     "output_type": "display_data"
    }
   ],
   "source": [
    "# first, let's get our dataframe\n",
    "clp_wifi <- read.csv(\"clp_wifi.csv\", stringsAsFactors=FALSE)\n",
    "head(clp_wifi)\n",
    "\n",
    "# adding a row\n",
    "# first off, each row is a dataframe unto itself, so let's make one\n",
    "df <- data.frame(CLPID = \"CLP42\", Name = \"DAT-204 Library!\", Year = 2020, Month = 10, WifiSessions = 9, WifiMinutes = 42424242)\n",
    "\n",
    "# we use rbind to combine data frames\n",
    "clp_wifi_copy <- rbind(df, clp_wifi)\n",
    "head(clp_wifi_copy)"
   ]
  },
  {
   "cell_type": "code",
   "execution_count": 6,
   "metadata": {},
   "outputs": [
    {
     "data": {
      "text/html": [
       "<table>\n",
       "<thead><tr><th scope=col>our_col</th><th scope=col>CLPID</th><th scope=col>Name</th><th scope=col>Year</th><th scope=col>Month</th><th scope=col>WifiSessions</th><th scope=col>WifiMinutes</th></tr></thead>\n",
       "<tbody>\n",
       "\t<tr><td>CLP01            </td><td>CLP01            </td><td>ALLEGHENY LIBRARY</td><td>2016             </td><td>1                </td><td>1037             </td><td>148513           </td></tr>\n",
       "\t<tr><td>CLP01            </td><td>CLP01            </td><td>ALLEGHENY LIBRARY</td><td>2016             </td><td>2                </td><td>1064             </td><td>150948           </td></tr>\n",
       "\t<tr><td>CLP01            </td><td>CLP01            </td><td>ALLEGHENY LIBRARY</td><td>2016             </td><td>3                </td><td> 949             </td><td>129484           </td></tr>\n",
       "\t<tr><td>CLP01            </td><td>CLP01            </td><td>ALLEGHENY LIBRARY</td><td>2016             </td><td>4                </td><td> 934             </td><td>136196           </td></tr>\n",
       "\t<tr><td>CLP01            </td><td>CLP01            </td><td>ALLEGHENY LIBRARY</td><td>2016             </td><td>5                </td><td>1018             </td><td>135793           </td></tr>\n",
       "\t<tr><td>CLP01            </td><td>CLP01            </td><td>ALLEGHENY LIBRARY</td><td>2016             </td><td>6                </td><td>1163             </td><td>169426           </td></tr>\n",
       "</tbody>\n",
       "</table>\n"
      ],
      "text/latex": [
       "\\begin{tabular}{r|lllllll}\n",
       " our\\_col & CLPID & Name & Year & Month & WifiSessions & WifiMinutes\\\\\n",
       "\\hline\n",
       "\t CLP01             & CLP01             & ALLEGHENY LIBRARY & 2016              & 1                 & 1037              & 148513           \\\\\n",
       "\t CLP01             & CLP01             & ALLEGHENY LIBRARY & 2016              & 2                 & 1064              & 150948           \\\\\n",
       "\t CLP01             & CLP01             & ALLEGHENY LIBRARY & 2016              & 3                 &  949              & 129484           \\\\\n",
       "\t CLP01             & CLP01             & ALLEGHENY LIBRARY & 2016              & 4                 &  934              & 136196           \\\\\n",
       "\t CLP01             & CLP01             & ALLEGHENY LIBRARY & 2016              & 5                 & 1018              & 135793           \\\\\n",
       "\t CLP01             & CLP01             & ALLEGHENY LIBRARY & 2016              & 6                 & 1163              & 169426           \\\\\n",
       "\\end{tabular}\n"
      ],
      "text/markdown": [
       "\n",
       "| our_col | CLPID | Name | Year | Month | WifiSessions | WifiMinutes |\n",
       "|---|---|---|---|---|---|---|\n",
       "| CLP01             | CLP01             | ALLEGHENY LIBRARY | 2016              | 1                 | 1037              | 148513            |\n",
       "| CLP01             | CLP01             | ALLEGHENY LIBRARY | 2016              | 2                 | 1064              | 150948            |\n",
       "| CLP01             | CLP01             | ALLEGHENY LIBRARY | 2016              | 3                 |  949              | 129484            |\n",
       "| CLP01             | CLP01             | ALLEGHENY LIBRARY | 2016              | 4                 |  934              | 136196            |\n",
       "| CLP01             | CLP01             | ALLEGHENY LIBRARY | 2016              | 5                 | 1018              | 135793            |\n",
       "| CLP01             | CLP01             | ALLEGHENY LIBRARY | 2016              | 6                 | 1163              | 169426            |\n",
       "\n"
      ],
      "text/plain": [
       "  our_col CLPID Name              Year Month WifiSessions WifiMinutes\n",
       "1 CLP01   CLP01 ALLEGHENY LIBRARY 2016 1     1037         148513     \n",
       "2 CLP01   CLP01 ALLEGHENY LIBRARY 2016 2     1064         150948     \n",
       "3 CLP01   CLP01 ALLEGHENY LIBRARY 2016 3      949         129484     \n",
       "4 CLP01   CLP01 ALLEGHENY LIBRARY 2016 4      934         136196     \n",
       "5 CLP01   CLP01 ALLEGHENY LIBRARY 2016 5     1018         135793     \n",
       "6 CLP01   CLP01 ALLEGHENY LIBRARY 2016 6     1163         169426     "
      ]
     },
     "metadata": {},
     "output_type": "display_data"
    }
   ],
   "source": [
    "# clean copy\n",
    "clp_wifi_copy <- clp_wifi\n",
    "\n",
    "# let's make a copy of the original clp_wifi CLPID column\n",
    "our_col <- clp_wifi$CLPID\n",
    "\n",
    "clp_wifi_copy <- cbind(our_col, clp_wifi_copy)\n",
    "head(clp_wifi_copy)"
   ]
  },
  {
   "cell_type": "code",
   "execution_count": null,
   "metadata": {},
   "outputs": [],
   "source": []
  }
 ],
 "metadata": {
  "kernelspec": {
   "display_name": "R",
   "language": "R",
   "name": "ir"
  },
  "language_info": {
   "codemirror_mode": "r",
   "file_extension": ".r",
   "mimetype": "text/x-r-source",
   "name": "R",
   "pygments_lexer": "r",
   "version": "3.6.1"
  }
 },
 "nbformat": 4,
 "nbformat_minor": 4
}
