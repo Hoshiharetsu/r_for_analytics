{
 "cells": [
  {
   "attachments": {},
   "cell_type": "markdown",
   "metadata": {},
   "source": [
    "Come on, we all knew this was going to happen. We install RStudio through Anaconda, despite the ways in which that's not entirely ideal: of _course_ Coral is going to put class notes into Jupyter Notebooks (for as long as they have time to do so, anyway).\n",
    "\n",
    "# Getting started in R\n",
    "\n",
    "R was built by statisticians, not computer scientists. If we accept that about it, we'll all be happier. People who learned ~Python~ pretty much any other language first will find themselves making off-by-one errors pretty regularly. It's fine.\n",
    "\n",
    "More usefully, here are facts about R from Professor Benis:\n",
    "* R is a programming language\n",
    "* R specializes in statistical computing and is excellent for mathematics, statistics, and analytics\n",
    "* R is growing in popularity for research and business analytics\n",
    "* R is a useful tool for any analyst and can help you understand the world around you!\n",
    "\n",
    "Like Python, R is an **interpreted** language, not a compiled language. \n",
    "\n",
    "Comments are done the same way, though, with pound signs/hashtags. (And just like in Python and every other language, comments are expected, whenever you're doing something that isn't _super_ obvious to future-you or anyone else who might be reading your code.)"
   ]
  },
  {
   "cell_type": "code",
   "execution_count": null,
   "metadata": {},
   "outputs": [],
   "source": [
    "# look at this sweet comment"
   ]
  },
  {
   "cell_type": "markdown",
   "metadata": {},
   "source": [
    "We do assignment with ```<-``` which we can get (with the spaces around it!) by hitting ```Alt--``` (alt-minus / alt-dash)."
   ]
  },
  {
   "cell_type": "code",
   "execution_count": null,
   "metadata": {},
   "outputs": [],
   "source": [
    "a_good_snake_case_object <- 42\n",
    "print(a_good_snake_case_object)"
   ]
  },
  {
   "cell_type": "markdown",
   "metadata": {},
   "source": [
    "Secretly, yes, ```=``` will work just fine for this, too, but other R programmers will judge you. Try to build the habit of using  ```<-```, and I'll do the same.\n",
    "\n",
    "You can just overwrite an object by assigning it again:"
   ]
  },
  {
   "cell_type": "code",
   "execution_count": null,
   "metadata": {},
   "outputs": [],
   "source": [
    "a_good_snake_case_object <- 42\n",
    "print(a_good_snake_case_object)\n",
    "a_good_snake_case_object <- \"potato\"\n",
    "print(a_good_snake_case_object)"
   ]
  },
  {
   "cell_type": "markdown",
   "metadata": {},
   "source": [
    "**Some things to know about object names:**\n",
    "* they cannot start with a digit, but digits can be included later\n",
    "* they cannot have certain symbols in them (!, @, #, $, %, ^, -, &, *)\n",
    "* they can&mdash;I kid you not&mdash;have periods in them \n",
    "    * BUT PLEASE DO NOT DO THIS (there are places where it makes sense, but we won't get to those places in a first-level R course)\n",
    "* underscores: OK! useful, because **snake_case** is pretty standard in R coding, but you can't start with one\n",
    "* they're case-sensitive (```Number``` is not the same as ```number```)\n",
    "\n",
    "**Quick test for ourselves:**\n",
    "\n",
    "Which of these object names will R accept? \n",
    "\n",
    "Which will other R programmers accept? ;)\n",
    "\n",
    "* ```abc```\n",
    "* ```iLoveBirds```\n",
    "* ```99balloons```\n",
    "* ```_thing3```\n",
    "* ```hot.potato```\n",
    "* ```my-favorite-number```\n",
    "* ```coffee&tea```"
   ]
  },
  {
   "cell_type": "code",
   "execution_count": null,
   "metadata": {},
   "outputs": [],
   "source": [
    "# let's actually test them!\n",
    "\n",
    "abc <- 5\n",
    "iLoveBirds <- 5\n",
    "#99balloons <- 5\n",
    "#_thing3 <- 5\n",
    "hot.potato <- 5\n",
    "#my-favorite-number <- 5\n",
    "#coffee&tea <- 5"
   ]
  },
  {
   "cell_type": "markdown",
   "metadata": {},
   "source": [
    "Objects can have any of the following **types** (the R function to find out the \"type\" is ```class(object)```, while ```typeof(object)``` finds out something slightly different, so perhaps I should call them \"classes\"):\n",
    "* character - \"y\", \"bird\"\n",
    "* numeric - 3, 12.3\n",
    "* integer - 3L\n",
    "* logical - TRUE/FALSE\n",
    "* complex - 1 + 2i\n",
    "* raw (we'll, uh, talk about this later)"
   ]
  },
  {
   "cell_type": "code",
   "execution_count": null,
   "metadata": {},
   "outputs": [],
   "source": [
    "a <- 14\n",
    "class(a)\n",
    "typeof(a)"
   ]
  },
  {
   "cell_type": "code",
   "execution_count": null,
   "metadata": {},
   "outputs": [],
   "source": [
    "animal <- \"bird\"\n",
    "class(animal)\n",
    "typeof(animal)"
   ]
  },
  {
   "cell_type": "markdown",
   "metadata": {},
   "source": [
    "We'll talk in more detail about data types later, so don't stress about this overmuch yet! But also, don't get upset when R tries to enforce behaviors based on what type of thing you're dealing with. (For instance, it won't allow sneaky things like using ```+``` to concatenate strings.)\n",
    "\n",
    "Anyway, R is for math! Let's do some math!\n",
    "\n",
    "## Mathematical operators\n",
    "\n",
    "![a table of RStudio math operators](math.png)\n",
    "(Thanks to [NCSU](https://it.chass.ncsu.edu/tutorials/r-project/section2.php) for the image!)\n",
    "\n",
    "The order of operations is the same as we learned in algebra, but honestly? Use parentheses to group things. Parentheses are great. "
   ]
  },
  {
   "cell_type": "code",
   "execution_count": null,
   "metadata": {
    "scrolled": true
   },
   "outputs": [],
   "source": [
    "\"5 + 9\"\n",
    "5 + 9\n",
    "\n",
    "\"13 + 7\"\n",
    "13 + 7\n",
    "\n",
    "\"20 - 9\"\n",
    "20 - 9\n",
    "\n",
    "\"14 / 3\"\n",
    "14 / 3\n",
    "\n",
    "\"8 + 7 - 3 * 2\"\n",
    "8 + 7 - 3 * 2\n",
    "\n",
    "\"8 + (7 - 3) * 2\"\n",
    "8 + (7 - 3) * 2\n",
    "\n",
    "\"8 %% 3\"\n",
    "8 %% 3\n",
    "\n",
    "\"8 %/% 3\"\n",
    "8 %/% 3\n",
    "\n",
    "\"2 ^ 3\"\n",
    "2 ^ 3\n",
    "\n",
    "\"2 ** 3\"\n",
    "2 ** 3"
   ]
  },
  {
   "cell_type": "markdown",
   "metadata": {},
   "source": [
    "It is, perhaps, unsurprising that we can also do math with objects:"
   ]
  },
  {
   "cell_type": "code",
   "execution_count": null,
   "metadata": {},
   "outputs": [],
   "source": [
    "num1 <- 1\n",
    "num2 <- 3\n",
    "num3 <- 5\n",
    "\n",
    "num1 + num2 + num3\n",
    "num3 - num2\n",
    "num3 %/% num2\n"
   ]
  },
  {
   "cell_type": "markdown",
   "metadata": {},
   "source": [
    "Total side note, but I mentioned that you can't go around concatenating strings with plus signs. There is, actually, a thing for that:"
   ]
  },
  {
   "cell_type": "code",
   "execution_count": null,
   "metadata": {},
   "outputs": [],
   "source": [
    "str1 <- \"birds\"\n",
    "str2 <- \"rock\"\n",
    "\n",
    "# fail\n",
    "#str1 + str2\n",
    "\n",
    "# not a fail\n",
    "paste(str1, str2)"
   ]
  },
  {
   "cell_type": "markdown",
   "metadata": {},
   "source": [
    "## Vectors\n",
    "\n",
    "The first data structure we've met, so far, in our R journey (assuming we read the chapter ;)), is the vector. You can generate a vector that is a range of numbers from ```m``` through ```n``` **inclusive,** with the syntax ```m:n```"
   ]
  },
  {
   "cell_type": "code",
   "execution_count": null,
   "metadata": {},
   "outputs": [],
   "source": [
    "my_vector <- 5:10\n",
    "print(my_vector)"
   ]
  },
  {
   "cell_type": "code",
   "execution_count": null,
   "metadata": {},
   "outputs": [],
   "source": [
    "# what do we think this will give us?\n",
    "my_vector[1]"
   ]
  },
  {
   "cell_type": "code",
   "execution_count": null,
   "metadata": {},
   "outputs": [],
   "source": [
    "# and this?\n",
    "typeof(my_vector)"
   ]
  },
  {
   "cell_type": "code",
   "execution_count": null,
   "metadata": {},
   "outputs": [],
   "source": [
    "# and this? \n",
    "typeof(my_vector[1]/2)"
   ]
  },
  {
   "cell_type": "markdown",
   "metadata": {},
   "source": [
    "Anyway, vectors are useful. Math on vectors is done element by element, by default. So if you have two vectors of equal length, whatever operation you run will happen between element 1 of the first vector and element 1 of the second vector, then move on to element 2 of both, and so on, leaving you with a result that is a vector of the same length."
   ]
  },
  {
   "cell_type": "code",
   "execution_count": null,
   "metadata": {},
   "outputs": [],
   "source": [
    "# c() is a function that concatenates things into a vector\n",
    "a <- c(2, 2, 2, 2, 2)\n",
    "b <- c(3, 3, 3, 3, 3)\n",
    "a + b \n",
    "b - a\n",
    "a * b"
   ]
  },
  {
   "cell_type": "markdown",
   "metadata": {},
   "source": [
    "If one vector is shorter, it will be repeated in order to work with the longer vector. This is really obvious when you're running a scalar (which is like a single-element vector, right?) up against a vector:"
   ]
  },
  {
   "cell_type": "code",
   "execution_count": null,
   "metadata": {},
   "outputs": [],
   "source": [
    "a * 2"
   ]
  },
  {
   "cell_type": "markdown",
   "metadata": {},
   "source": [
    "But it works a little less obviously when you're combining two vectors of unequal length:"
   ]
  },
  {
   "cell_type": "code",
   "execution_count": null,
   "metadata": {},
   "outputs": [],
   "source": [
    "x <- 1:12\n",
    "y <- 1:3\n",
    "aa <- c(y, y, y, y)\n",
    "\n",
    "x\n",
    "y\n",
    "x + aa"
   ]
  },
  {
   "cell_type": "markdown",
   "metadata": {},
   "source": [
    "SOMETIMES it will throw you a warning, but (as you saw above) not always:"
   ]
  },
  {
   "cell_type": "code",
   "execution_count": null,
   "metadata": {
    "scrolled": true
   },
   "outputs": [],
   "source": [
    "x <- 1:10\n",
    "y <- 1:3\n",
    "x\n",
    "y\n",
    "x + y"
   ]
  },
  {
   "cell_type": "markdown",
   "metadata": {},
   "source": [
    "It's also worth pointing out, you can use c() to combine vectors:"
   ]
  },
  {
   "cell_type": "code",
   "execution_count": null,
   "metadata": {},
   "outputs": [],
   "source": [
    "z <- c(x, y)\n",
    "z"
   ]
  },
  {
   "cell_type": "markdown",
   "metadata": {},
   "source": [
    "## Functions\n",
    "\n",
    "The syntax of function declaration in R is as follows:\n",
    "```R\n",
    "function_name <- function(arg1, arg2 = default_value) {\n",
    "    ...\n",
    "    }\n",
    "```\n",
    "\n",
    "You can create functions with or without arguments. \n",
    "You can give the arguments default values or not. \n",
    "The function **does** have to have a name (also snake_case), and you **do** need the curly braces.\n",
    "\n",
    "A function will not run until you call it."
   ]
  },
  {
   "cell_type": "code",
   "execution_count": null,
   "metadata": {},
   "outputs": [],
   "source": [
    "add_some_numbers <- function(num1, num2 = 1) {\n",
    "    num1 + num2\n",
    "}\n",
    "\n",
    "# no output! we haven't called it yet!"
   ]
  },
  {
   "cell_type": "code",
   "execution_count": null,
   "metadata": {},
   "outputs": [],
   "source": [
    "# now we will call it\n",
    "add_some_numbers(num1 = 4, num2 = 5)\n"
   ]
  },
  {
   "cell_type": "code",
   "execution_count": null,
   "metadata": {
    "scrolled": true
   },
   "outputs": [],
   "source": [
    "# let's mess around a bit with the parameters, yes?\n",
    "add_some_numbers(4, 5)\n",
    "add_some_numbers(1)\n",
    "add_some_numbers(4, num2 = 5)\n",
    "add_some_numbers(num1 = 4)\n",
    "add_some_numbers(num2 = 4)"
   ]
  },
  {
   "cell_type": "markdown",
   "metadata": {},
   "source": [
    "We can use a function that comes with R as part of our own function, too. Remember ```sample()``` from the book? In case not, here's how we use it:"
   ]
  },
  {
   "cell_type": "code",
   "execution_count": null,
   "metadata": {},
   "outputs": [],
   "source": [
    "die <- 1:6 # die is an object holding a vector of 1 2 3 4 5 6\n",
    "\n",
    "sample(die, size = 1)\n",
    "sample(die, size = 5) # what's weird about this?"
   ]
  },
  {
   "cell_type": "code",
   "execution_count": null,
   "metadata": {},
   "outputs": [],
   "source": [
    "# ok, making it work like an actual die\n",
    "sample(die, size = 5, replace= TRUE)"
   ]
  },
  {
   "cell_type": "code",
   "execution_count": null,
   "metadata": {},
   "outputs": [],
   "source": [
    "# so, our own function that rolls a particular number of dice of a particular size:\n",
    "dice_roller <- function(die_size = 6, number_of_rolls = 1) {\n",
    "    the_die <- 1:die_size\n",
    "    # we can use sample() inside our own function\n",
    "    sample(the_die, size = number_of_rolls, replace = TRUE)\n",
    "}\n",
    "\n",
    "# roll a d6 one time\n",
    "dice_roller()\n",
    "\n",
    "# roll a d20 twice\n",
    "dice_roller(die_size = 20, number_of_rolls = 2)"
   ]
  },
  {
   "cell_type": "code",
   "execution_count": null,
   "metadata": {},
   "outputs": [],
   "source": [
    "# OK, and what if we want to deal with weighted dice? \n",
    "\n",
    "roll_weighted_d6 <- function(){\n",
    "  die <- 1:6\n",
    "  sample(die, 1, prob = c(1/8,1/8,1/8,1/8,1/8,3/8))\n",
    "}\n",
    "\n",
    "roll_weighted_d6()\n",
    "roll_weighted_d6()\n",
    "roll_weighted_d6()\n",
    "roll_weighted_d6()\n",
    "roll_weighted_d6()\n",
    "roll_weighted_d6()\n",
    "roll_weighted_d6()\n",
    "prob"
   ]
  },
  {
   "cell_type": "markdown",
   "metadata": {},
   "source": [
    "Hmmm. Maybe we should run this more often and see what kind of statistics we get on it?"
   ]
  },
  {
   "cell_type": "code",
   "execution_count": null,
   "metadata": {},
   "outputs": [],
   "source": [
    "# first let's look at unweighted dice\n",
    "unweighted_rolls <- replicate(10000, dice_roller(6,1))\n",
    "\n",
    "mean(unweighted_rolls)\n",
    "median(unweighted_rolls)\n",
    "hist(unweighted_rolls)"
   ]
  },
  {
   "cell_type": "code",
   "execution_count": null,
   "metadata": {},
   "outputs": [],
   "source": [
    "# and weighted?\n",
    "\n",
    "weighted_rolls <- replicate(10000, roll_weighted_d6())\n",
    "\n",
    "mean(weighted_rolls)\n",
    "median(weighted_rolls)\n",
    "hist(weighted_rolls)"
   ]
  },
  {
   "cell_type": "code",
   "execution_count": null,
   "metadata": {},
   "outputs": [],
   "source": []
  },
  {
   "attachments": {},
   "cell_type": "markdown",
   "metadata": {},
   "source": [
    "## RStudio\n",
    "\n",
    "RStudio is the integrated development environment we'll be using for R. (I'll make notebooks, when it makes sense. I won't expect you to make notebooks, though.)\n",
    "\n",
    "![the parts of RStudio, annotated](rstudio.png)\n",
    "(Big thanks to Jordan Benis for this image!)\n",
    "\n",
    "You can get it with Anaconda, if you don't mind running a slightly older version of the software. I do this for a number of reasons, but mostly because I am not an administrator on my work machine, and I really like having access to notebooks. You will likely have an easier life if you get your RStudio elsewhere:\n",
    " * https://rstudio.com/products/rstudio/download/ OR\n",
    " * https://cran.r-project.org/"
   ]
  },
  {
   "cell_type": "code",
   "execution_count": null,
   "metadata": {},
   "outputs": [],
   "source": []
  }
 ],
 "metadata": {
  "kernelspec": {
   "display_name": "R",
   "language": "R",
   "name": "ir"
  },
  "language_info": {
   "codemirror_mode": "r",
   "file_extension": ".r",
   "mimetype": "text/x-r-source",
   "name": "R",
   "pygments_lexer": "r",
   "version": "3.6.1"
  }
 },
 "nbformat": 4,
 "nbformat_minor": 4
}
