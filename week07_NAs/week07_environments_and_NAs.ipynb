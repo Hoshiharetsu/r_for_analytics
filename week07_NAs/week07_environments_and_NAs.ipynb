{
 "cells": [
  {
   "cell_type": "markdown",
   "metadata": {},
   "source": [
    "# Environments and scoping in R\n",
    "\n",
    "Scoping in R isn't really that weird, if we're coming into it from a programming background, but it really stresses out mathematicians, I guess. \n",
    "\n",
    "Generally, you'll be working in the Global Environment, unless you're working inside a function.\n",
    "\n",
    "(Attribution note: a _lot_ of the code for this particular notebook came from Jordan Benis's lecture notes, which he kindly shared with me.)"
   ]
  },
  {
   "cell_type": "code",
   "execution_count": 1,
   "metadata": {},
   "outputs": [
    {
     "data": {
      "text/plain": [
       "<environment: R_GlobalEnv>"
      ]
     },
     "metadata": {},
     "output_type": "display_data"
    }
   ],
   "source": [
    "environment()"
   ]
  },
  {
   "cell_type": "code",
   "execution_count": 2,
   "metadata": {},
   "outputs": [
    {
     "data": {
      "text/plain": [
       "<environment: 0x00000000427d9fd0>\n",
       "attr(,\"name\")\n",
       "[1] \"jupyter:irkernel\""
      ]
     },
     "metadata": {},
     "output_type": "display_data"
    }
   ],
   "source": [
    "# the global environment does have a parent environment\n",
    "parent.env(environment())"
   ]
  },
  {
   "cell_type": "code",
   "execution_count": 3,
   "metadata": {},
   "outputs": [
    {
     "data": {
      "text/plain": [
       "<environment: package:stats>\n",
       "attr(,\"name\")\n",
       "[1] \"package:stats\"\n",
       "attr(,\"path\")\n",
       "[1] \"C:/Users/csheldon-hess/Anaconda3/envs/r-with-jupyter/Lib/R/library/stats\""
      ]
     },
     "metadata": {},
     "output_type": "display_data"
    }
   ],
   "source": [
    "# ... which has a parent environment\n",
    "parent.env(parent.env(environment()))\n",
    "# we could keep going up, but you get the idea"
   ]
  },
  {
   "cell_type": "code",
   "execution_count": 5,
   "metadata": {},
   "outputs": [
    {
     "name": "stdout",
     "output_type": "stream",
     "text": [
      "character(0)\n",
      "character(0)\n"
     ]
    }
   ],
   "source": [
    "print(ls())\n",
    "print(ls(globalenv()))\n",
    "#ls(baseenv())"
   ]
  },
  {
   "cell_type": "code",
   "execution_count": 8,
   "metadata": {},
   "outputs": [
    {
     "name": "stdout",
     "output_type": "stream",
     "text": [
      "<environment: 0x0000000043573030>\n",
      "<environment: R_GlobalEnv>\n",
      "character(0)\n"
     ]
    },
    {
     "data": {
      "text/html": [
       "'checkEnv'"
      ],
      "text/latex": [
       "'checkEnv'"
      ],
      "text/markdown": [
       "'checkEnv'"
      ],
      "text/plain": [
       "[1] \"checkEnv\""
      ]
     },
     "metadata": {},
     "output_type": "display_data"
    }
   ],
   "source": [
    "checkEnv <- function(){\n",
    "  print(environment())\n",
    "  print(parent.env(environment()))\n",
    "  print(ls())\n",
    "}\n",
    "\n",
    "checkEnv()\n",
    "ls()"
   ]
  },
  {
   "cell_type": "code",
   "execution_count": 15,
   "metadata": {},
   "outputs": [
    {
     "name": "stdout",
     "output_type": "stream",
     "text": [
      "<environment: 0x00000000411eab90>\n",
      "<environment: R_GlobalEnv>\n",
      "[1] \"arg\"\n",
      "<environment: 0x00000000412aa3c8>\n",
      "<environment: R_GlobalEnv>\n",
      "character(0)\n"
     ]
    }
   ],
   "source": [
    "checkEnvWarg <- function(arg = 3){\n",
    "  print(environment())\n",
    "  print(parent.env(environment()))\n",
    "  print(ls()) # oooh\n",
    "}\n",
    "\n",
    "checkEnvWarg()\n"
   ]
  },
  {
   "cell_type": "code",
   "execution_count": 16,
   "metadata": {},
   "outputs": [
    {
     "data": {
      "text/html": [
       "<ol class=list-inline>\n",
       "\t<li>'a'</li>\n",
       "\t<li>'changea0'</li>\n",
       "\t<li>'checkEnv'</li>\n",
       "\t<li>'checkEnvWarg'</li>\n",
       "</ol>\n"
      ],
      "text/latex": [
       "\\begin{enumerate*}\n",
       "\\item 'a'\n",
       "\\item 'changea0'\n",
       "\\item 'checkEnv'\n",
       "\\item 'checkEnvWarg'\n",
       "\\end{enumerate*}\n"
      ],
      "text/markdown": [
       "1. 'a'\n",
       "2. 'changea0'\n",
       "3. 'checkEnv'\n",
       "4. 'checkEnvWarg'\n",
       "\n",
       "\n"
      ],
      "text/plain": [
       "[1] \"a\"            \"changea0\"     \"checkEnv\"     \"checkEnvWarg\""
      ]
     },
     "metadata": {},
     "output_type": "display_data"
    }
   ],
   "source": [
    "ls()"
   ]
  },
  {
   "cell_type": "markdown",
   "metadata": {},
   "source": [
    "To some extent, scoping in R works just like we expect from other languages. Create a variable inside a function? It goes away when the function returns. It's local to that function. Makes sense. Seems good. We're happy."
   ]
  },
  {
   "cell_type": "code",
   "execution_count": 14,
   "metadata": {},
   "outputs": [
    {
     "data": {
      "text/html": [
       "7"
      ],
      "text/latex": [
       "7"
      ],
      "text/markdown": [
       "7"
      ],
      "text/plain": [
       "[1] 7"
      ]
     },
     "metadata": {},
     "output_type": "display_data"
    },
    {
     "ename": "ERROR",
     "evalue": "Error in eval(expr, envir, enclos): object 'b' not found\n",
     "output_type": "error",
     "traceback": [
      "Error in eval(expr, envir, enclos): object 'b' not found\nTraceback:\n"
     ]
    }
   ],
   "source": [
    "a <- 7\n",
    "\n",
    "changea0 <- function(){\n",
    "    b <- 20\n",
    "    a <- a + b\n",
    "}\n",
    "\n",
    "changea0()\n",
    "a\n",
    "b"
   ]
  },
  {
   "cell_type": "markdown",
   "metadata": {},
   "source": [
    "Within a function, you can access global variables. Also unsurprising. But R does a nice thing, here, where it doesn't just let you go changing global variables without _really_ intending to.\n",
    "\n",
    "It creates a new copy of the variable, within the environment of the function. It's separate from the global variable. Changes to it don't affect the global variable."
   ]
  },
  {
   "cell_type": "code",
   "execution_count": 17,
   "metadata": {},
   "outputs": [
    {
     "name": "stdout",
     "output_type": "stream",
     "text": [
      "[1] 8\n"
     ]
    },
    {
     "data": {
      "text/html": [
       "7"
      ],
      "text/latex": [
       "7"
      ],
      "text/markdown": [
       "7"
      ],
      "text/plain": [
       "[1] 7"
      ]
     },
     "metadata": {},
     "output_type": "display_data"
    }
   ],
   "source": [
    "a <- 7 #in global env\n",
    "\n",
    "# use a in a function\n",
    "changea1 <- function(){\n",
    "  a <- a + 1 # now we are in function's environment\n",
    "  print(a)\n",
    "}\n",
    "changea1()\n",
    "a"
   ]
  },
  {
   "cell_type": "code",
   "execution_count": 18,
   "metadata": {
    "scrolled": true
   },
   "outputs": [
    {
     "name": "stdout",
     "output_type": "stream",
     "text": [
      "[1] 8\n"
     ]
    },
    {
     "data": {
      "text/html": [
       "7"
      ],
      "text/latex": [
       "7"
      ],
      "text/markdown": [
       "7"
      ],
      "text/plain": [
       "[1] 7"
      ]
     },
     "metadata": {},
     "output_type": "display_data"
    }
   ],
   "source": [
    "a <- 7 #in global env\n",
    "\n",
    "# ok, what if we make a a parameter?\n",
    "# (don't do this, why would you do this?)\n",
    "changea2 <- function(a = 9){\n",
    "  a <- a + 1 # can still get that good global value!\n",
    "  print(a)   # can change it in function scope\n",
    "}\n",
    "changea2(a)\n",
    "a # but it remains the same, globally"
   ]
  },
  {
   "cell_type": "markdown",
   "metadata": {},
   "source": [
    "### Updating global variables inside functions\n",
    "\n",
    "Occasionally, you might need to update a global variable inside a function. It's a thing, I _guess._ (I claim it's not a thing you will want to do often, although the book's example with \"deal a card from the deck and then pull that card out of the deck\" is a compelling exception.) "
   ]
  },
  {
   "cell_type": "code",
   "execution_count": 19,
   "metadata": {},
   "outputs": [
    {
     "data": {
      "text/html": [
       "20"
      ],
      "text/latex": [
       "20"
      ],
      "text/markdown": [
       "20"
      ],
      "text/plain": [
       "[1] 20"
      ]
     },
     "metadata": {},
     "output_type": "display_data"
    },
    {
     "data": {
      "text/html": [
       "17"
      ],
      "text/latex": [
       "17"
      ],
      "text/markdown": [
       "17"
      ],
      "text/plain": [
       "[1] 17"
      ]
     },
     "metadata": {},
     "output_type": "display_data"
    }
   ],
   "source": [
    "# updating a value\n",
    "# how do we think this works?\n",
    "\n",
    "globalVar <- 17\n",
    "\n",
    "updateGV <- function(numForUpdate){\n",
    "  globalVar <- globalVar + numForUpdate\n",
    "  globalVar\n",
    "}\n",
    "\n",
    "updateGV(3)\n",
    "globalVar"
   ]
  },
  {
   "cell_type": "markdown",
   "metadata": {},
   "source": [
    "Yeah, no.\n",
    "\n",
    "For this we need the, I kid you not, **superassignment operator** `<<-`"
   ]
  },
  {
   "cell_type": "code",
   "execution_count": 20,
   "metadata": {},
   "outputs": [
    {
     "data": {
      "text/html": [
       "20"
      ],
      "text/latex": [
       "20"
      ],
      "text/markdown": [
       "20"
      ],
      "text/plain": [
       "[1] 20"
      ]
     },
     "metadata": {},
     "output_type": "display_data"
    },
    {
     "data": {
      "text/html": [
       "20"
      ],
      "text/latex": [
       "20"
      ],
      "text/markdown": [
       "20"
      ],
      "text/plain": [
       "[1] 20"
      ]
     },
     "metadata": {},
     "output_type": "display_data"
    }
   ],
   "source": [
    "globalVar <- 17\n",
    "\n",
    "updateGV <- function(numForUpdate){\n",
    "  globalVar <<- globalVar + numForUpdate\n",
    "  globalVar\n",
    "}\n",
    "updateGV(3)\n",
    "\n",
    "globalVar"
   ]
  },
  {
   "cell_type": "markdown",
   "metadata": {},
   "source": [
    "Alternately, you can use the `assign()` function."
   ]
  },
  {
   "cell_type": "code",
   "execution_count": 21,
   "metadata": {},
   "outputs": [
    {
     "data": {
      "text/html": [
       "20"
      ],
      "text/latex": [
       "20"
      ],
      "text/markdown": [
       "20"
      ],
      "text/plain": [
       "[1] 20"
      ]
     },
     "metadata": {},
     "output_type": "display_data"
    },
    {
     "data": {
      "text/html": [
       "20"
      ],
      "text/latex": [
       "20"
      ],
      "text/markdown": [
       "20"
      ],
      "text/plain": [
       "[1] 20"
      ]
     },
     "metadata": {},
     "output_type": "display_data"
    }
   ],
   "source": [
    "globalVar <- 17\n",
    "\n",
    "updateGV <- function(numForUpdate){\n",
    "  assign(\"globalVar\", globalVar + numForUpdate, envir = parent.env(environment()))\n",
    "  globalVar\n",
    "}\n",
    "\n",
    "updateGV(3) # we can try this with other numbers if you want\n",
    "\n",
    "globalVar"
   ]
  },
  {
   "cell_type": "markdown",
   "metadata": {},
   "source": [
    "Questions? Things you want to try?"
   ]
  },
  {
   "cell_type": "markdown",
   "metadata": {},
   "source": [
    "# NAs in R\n",
    "\n",
    "As data analysts, we often have to deal with missing values in our data. R was built with this kind of thing in mind and represents missing values with the symbol `NA`. You can't do math or logic with NAs."
   ]
  },
  {
   "cell_type": "code",
   "execution_count": 22,
   "metadata": {
    "scrolled": true
   },
   "outputs": [
    {
     "data": {
      "text/html": [
       "&lt;NA&gt;"
      ],
      "text/latex": [
       "<NA>"
      ],
      "text/markdown": [
       "&lt;NA&gt;"
      ],
      "text/plain": [
       "[1] NA"
      ]
     },
     "metadata": {},
     "output_type": "display_data"
    },
    {
     "data": {
      "text/html": [
       "&lt;NA&gt;"
      ],
      "text/latex": [
       "<NA>"
      ],
      "text/markdown": [
       "&lt;NA&gt;"
      ],
      "text/plain": [
       "[1] NA"
      ]
     },
     "metadata": {},
     "output_type": "display_data"
    }
   ],
   "source": [
    "5 + NA #it doesn't return 5\n",
    "\n",
    "NA == \"Dog\" #it does return FALSE"
   ]
  },
  {
   "cell_type": "code",
   "execution_count": 23,
   "metadata": {},
   "outputs": [
    {
     "data": {
      "text/html": [
       "<ol class=list-inline>\n",
       "\t<li>&lt;NA&gt;</li>\n",
       "\t<li>1</li>\n",
       "\t<li>2</li>\n",
       "\t<li>3</li>\n",
       "\t<li>4</li>\n",
       "\t<li>5</li>\n",
       "\t<li>6</li>\n",
       "\t<li>7</li>\n",
       "\t<li>8</li>\n",
       "\t<li>9</li>\n",
       "\t<li>10</li>\n",
       "</ol>\n"
      ],
      "text/latex": [
       "\\begin{enumerate*}\n",
       "\\item <NA>\n",
       "\\item 1\n",
       "\\item 2\n",
       "\\item 3\n",
       "\\item 4\n",
       "\\item 5\n",
       "\\item 6\n",
       "\\item 7\n",
       "\\item 8\n",
       "\\item 9\n",
       "\\item 10\n",
       "\\end{enumerate*}\n"
      ],
      "text/markdown": [
       "1. &lt;NA&gt;\n",
       "2. 1\n",
       "3. 2\n",
       "4. 3\n",
       "5. 4\n",
       "6. 5\n",
       "7. 6\n",
       "8. 7\n",
       "9. 8\n",
       "10. 9\n",
       "11. 10\n",
       "\n",
       "\n"
      ],
      "text/plain": [
       " [1] NA  1  2  3  4  5  6  7  8  9 10"
      ]
     },
     "metadata": {},
     "output_type": "display_data"
    },
    {
     "data": {
      "text/html": [
       "&lt;NA&gt;"
      ],
      "text/latex": [
       "<NA>"
      ],
      "text/markdown": [
       "&lt;NA&gt;"
      ],
      "text/plain": [
       "[1] NA"
      ]
     },
     "metadata": {},
     "output_type": "display_data"
    }
   ],
   "source": [
    "vecWNA <- c(NA,1:10)\n",
    "\n",
    "vecWNA\n",
    "\n",
    "mean(vecWNA) #will return NA!"
   ]
  },
  {
   "cell_type": "markdown",
   "metadata": {},
   "source": [
    "All is not lost! We can tell R, \"yes, this data has some gaps, but we want to know what you can tell us using only the valid parts of the data.\" "
   ]
  }
 ],
 "metadata": {
  "kernelspec": {
   "display_name": "R",
   "language": "R",
   "name": "ir"
  },
  "language_info": {
   "codemirror_mode": "r",
   "file_extension": ".r",
   "mimetype": "text/x-r-source",
   "name": "R",
   "pygments_lexer": "r",
   "version": "3.6.1"
  }
 },
 "nbformat": 4,
 "nbformat_minor": 4
}
