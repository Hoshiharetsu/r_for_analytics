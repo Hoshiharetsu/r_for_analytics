{
 "cells": [
  {
   "cell_type": "markdown",
   "metadata": {},
   "source": [
    "# R Packages\n",
    "\n",
    "## Installation\n",
    "\n",
    "If you need to add a package to R, the command is\n",
    "```R\n",
    "install.packages(\"package_name\")\n",
    "```\n",
    "\n",
    "You can install multiple packages like so:\n",
    "```R\n",
    "install.packages(c(\"package_name1\", \"package_name2\"))\n",
    "```\n",
    "\n",
    "### Some notes, though:\n",
    "* You only have to do this once. \n",
    "* `install.packages()` installs the package to R, but doesn't activate it within your workspace. \n",
    "* It's something you do **from the console.** It's considered bad manners to add package installation to an .R script.\n",
    "\n",
    "You can see what's installed with the command\n",
    "```R\n",
    "library()\n",
    "```\n",
    "\n",
    "The main repository for R packages is CRAN, The Comprehensive R Archive Network, at https://cran.r-project.org/. It has 16294 packages available (9/16/2020). \n",
    "\n",
    "There are other places to get R packages&mdash;we can write our own!&mdash;but CRAN is generally considered the most safe and reliable source. (R's like most programming languages: if you're going to download a library/package from a rando, make sure it's a rando you have reason to trust.)"
   ]
  },
  {
   "cell_type": "code",
   "execution_count": null,
   "metadata": {},
   "outputs": [],
   "source": [
    "library()"
   ]
  },
  {
   "cell_type": "markdown",
   "metadata": {},
   "source": [
    "## Loading packages for use\n",
    "\n",
    "The command to load a package for use in your current session is\n",
    "```R\n",
    "library(\"package_name\") # you can leave off the quotation marks if you want\n",
    "```\n",
    "\n",
    "This is fine to do in scripts. Necessary, even. Be cool and put all of your `library()` statements at the **top** of the script, so anyone who wants to try to run it can see what they're going to need to install easily. \n",
    "\n",
    "That said, R will let you know if you haven't loaded a library that you need:"
   ]
  },
  {
   "cell_type": "code",
   "execution_count": null,
   "metadata": {},
   "outputs": [],
   "source": [
    "x <- c(1, 2, 2, 3, 4, 5, 5, 6)\n",
    "qplot(x, binwidth = 1)"
   ]
  },
  {
   "cell_type": "code",
   "execution_count": null,
   "metadata": {},
   "outputs": [],
   "source": [
    "library(ggplot2)\n",
    "x <- c(1, 2, 2, 3, 4, 5, 5, 6)\n",
    "qplot(x, binwidth = 1)"
   ]
  },
  {
   "cell_type": "markdown",
   "metadata": {},
   "source": [
    "I went and brought up `qplot()`, so let's do this thing:"
   ]
  },
  {
   "cell_type": "code",
   "execution_count": null,
   "metadata": {},
   "outputs": [],
   "source": [
    "# this is going to show a lot of code\n",
    "qplot"
   ]
  },
  {
   "cell_type": "code",
   "execution_count": null,
   "metadata": {},
   "outputs": [],
   "source": [
    "# maybe more useful - pulls up the help file\n",
    "?qplot"
   ]
  },
  {
   "cell_type": "markdown",
   "metadata": {},
   "source": [
    "The only thing we've really learned about `qplot()` from the book is how we can make a histogram with it. So both the code and the help file are a little overwhelming, right this second. All of `ggplot2` is going to get easier over time. \n",
    "\n",
    "Let's make a quickplot from the `diamonds` dataset that comes built into R. We're going to need one piece the book didn't give us, which is that `diamonds` is a data frame, and we want one column (variable) out of it, to make a histogram out of. So we'll specify it with the optional `data =` parameter in `qplot()`:"
   ]
  },
  {
   "cell_type": "code",
   "execution_count": null,
   "metadata": {},
   "outputs": [],
   "source": [
    "diamonds"
   ]
  },
  {
   "cell_type": "code",
   "execution_count": null,
   "metadata": {},
   "outputs": [],
   "source": [
    "# carat is a continuous variable\n",
    "qplot(diamonds$carat, binwidth = .25)\n",
    "#qplot(carat, data = diamonds, binwidth = .25)"
   ]
  },
  {
   "cell_type": "code",
   "execution_count": null,
   "metadata": {},
   "outputs": [],
   "source": [
    "# cut and clarity are categorical variables\n",
    "# (this is actually a bar chart, not a histogram)\n",
    "qplot(clarity, data = diamonds)"
   ]
  },
  {
   "cell_type": "code",
   "execution_count": null,
   "metadata": {
    "scrolled": false
   },
   "outputs": [],
   "source": [
    "# so here is a thing I did this week, for fun\n",
    "\n",
    "# simulates rolling two 6-sided dice\n",
    "two_d6 <- function() {\n",
    "  die <- 1:6\n",
    "  dice <- sample(die, size=2, replace=T)\n",
    "  return(sum(dice)) # explicit returns in R are a thing and make me feel better\n",
    "}\n",
    "\n",
    "# simulates rolling two Sicherman dice\n",
    "# https://en.wikipedia.org/wiki/Sicherman_dice\n",
    "two_sicherman_dice <- function() {\n",
    "  die1 <- c(1, 2, 2, 3, 3, 4)\n",
    "  die2 <- c(1, 3, 4, 5, 6, 8)\n",
    "  return(sample(die1, size=1) + sample(die2, size=1))\n",
    "}\n",
    "\n",
    "# simulates each thing 10k times\n",
    "rolling_2d6_10k_times <- replicate(10000,two_d6())\n",
    "rolling_2sich_10k_times <- replicate(10000,two_sicherman_dice())\n",
    "\n",
    "# plots each histogram, for comparison\n",
    "qplot(rolling_2d6_10k_times, binwidth=1)\n",
    "qplot(rolling_2sich_10k_times, binwidth=1)\n"
   ]
  },
  {
   "cell_type": "markdown",
   "metadata": {},
   "source": [
    "OK, I think we can all agree that histograms are great and useful, but sometimes we want something different, right? (Right.)\n",
    "\n",
    "We're going to learn to make a few other graphs tonight, because that will help us explore data more quickly.\n",
    "\n",
    "But first I need to do a thing. Because the diamonds dataset is too big."
   ]
  },
  {
   "cell_type": "code",
   "execution_count": null,
   "metadata": {},
   "outputs": [],
   "source": [
    "# I am just making a smaller, 100-row version of the diamonds data frame\n",
    "# massive appreciation to Douglas Bates at UWisc for the idea\n",
    "# http://pages.stat.wisc.edu/~st849-1/Rnotes/qplot.pdf\n",
    "set.seed(1234) # Make the sample reproducible\n",
    "dsmall <- diamonds[sample(nrow(diamonds), 100), ]"
   ]
  },
  {
   "cell_type": "markdown",
   "metadata": {},
   "source": [
    "# `qplot()` parameters - a quick intro\n",
    "\n",
    "qplot expects the following parameters, though you've probably noticed several of them are optional:\n",
    "* x - the independent variable\n",
    "* y - the dependent variable (optional! we haven't included this yet!)\n",
    "* data - a data frame or tibble (also optional! it does its best if you don't provide this)\n",
    "* geom - what kind of plot are we making? (it'll make its best guess if you don't specify)\n",
    "* xlim - a two-element vector showing the start and end of the x axis (it'll guess if you don't specify)\n",
    "* ylim - same, but the y axis (same)\n",
    "* xlab - a label for the x axis, optional\n",
    "* ylab - a label for the y axis, optional\n",
    "* main - a label for the whole plot\n",
    "\n",
    "```R\n",
    "qplot(x, y=NULL, data, geom=\"auto\", xlim = c(NA, NA), ylim =c(NA, NA))\n",
    "```\n",
    "\n",
    "If you **only specify x** and not y, it's going to assume you want a **histogram** or **bar chart,** depending on your data type:\n",
    "```R\n",
    "qplot(carat, data = diamonds, binwidth = .5)\n",
    "qplot(cut, data = diamonds)\n",
    "qplot(rolling_2d6_10k_times, binwidth=1)\n",
    "```\n",
    "\n",
    "If you **specify x _and_ y** and you don't tell it otherwise, it's going to assume you want a **scatterplot**:"
   ]
  },
  {
   "cell_type": "code",
   "execution_count": null,
   "metadata": {},
   "outputs": [],
   "source": [
    "#qplot(carat, price, data = dsmall)\n",
    "\n",
    "# same, more fully specified, fine if it makes you more comfortable:\n",
    "qplot(x = carat, y = price, data = dsmall)"
   ]
  },
  {
   "cell_type": "markdown",
   "metadata": {},
   "source": [
    "Nobody can stop you from specifying the geom, though. What if you want a boxplot?"
   ]
  },
  {
   "cell_type": "code",
   "execution_count": null,
   "metadata": {},
   "outputs": [],
   "source": [
    "# boxplot!\n",
    "qplot(cut, price, data = dsmall, geom = \"boxplot\")"
   ]
  },
  {
   "cell_type": "code",
   "execution_count": null,
   "metadata": {},
   "outputs": [],
   "source": [
    "# we can make it prettier by specifying a fill color for each one:\n",
    "qplot(carat, price, data = dsmall, geom=\"boxplot\")"
   ]
  },
  {
   "cell_type": "code",
   "execution_count": null,
   "metadata": {},
   "outputs": [],
   "source": [
    "# we can also break down our data with a fill \n",
    "qplot(carat, data = dsmall, binwidth=.25, fill=cut)"
   ]
  },
  {
   "cell_type": "code",
   "execution_count": null,
   "metadata": {},
   "outputs": [],
   "source": [
    "# we can also break down our data with a fill \n",
    "# stacked bar chart!\n",
    "qplot(color, data = dsmall, fill=cut)"
   ]
  },
  {
   "cell_type": "code",
   "execution_count": null,
   "metadata": {},
   "outputs": [],
   "source": [
    "# or with coloration\n",
    "qplot(carat, price, data = dsmall, color = cut, xlab = \"Carats\", ylab = \"Price\", main = \"Diamonds\")"
   ]
  },
  {
   "cell_type": "markdown",
   "metadata": {},
   "source": [
    "# Conditionals\n",
    "\n",
    "OK, I really slipped up last week by not telling you about conditionals and then assigning a problem that kind of assumed you knew how conditionals worked. I'm sorry. I'll fix it now.\n",
    "\n",
    "Here's the format:\n",
    "\n",
    "```R\n",
    "if (condition1) {\n",
    "    # what happens if condition1 is true\n",
    "} else if (condition2) {\n",
    "    # what happens if condition1 is false and condition2 is true\n",
    "} else {\n",
    "    # what happens if both condition1 and condition2 are false\n",
    "}\n",
    "```\n",
    "\n",
    "Comparison operators:\n",
    "* `<` \tless than\n",
    "* `<=` \tless than or equal to\n",
    "* `>` \tgreater than\n",
    "* `>=` \tgreater than or equal to\n",
    "* `==` \texactly equal to\n",
    "* `!=` \tnot equal to\n",
    "* `!x` \tNot x\n",
    "* `x | y` \tx OR y\n",
    "* `x & y` \tx AND y\n",
    "\n",
    "Given this, let's refactor my (honestly sort of messy) solution from last week's problem:\n"
   ]
  },
  {
   "cell_type": "code",
   "execution_count": null,
   "metadata": {},
   "outputs": [],
   "source": [
    "# gotta define weird_dice() but this is not the one from the homework\n",
    "weird_dice <- function() {\n",
    "    d8 <- sample(1:8, size = 1)\n",
    "    d12 <- sample(1:12, size = 1)\n",
    "    return(d8 + d12)\n",
    "}\n",
    "\n",
    "# the original\n",
    "weird_dice_rolled_3x <- function() {\n",
    "  if (weird_dice() >= 13) {\n",
    "    return(1)\n",
    "  }\n",
    "  if (weird_dice() >= 13) {\n",
    "    return(1)\n",
    "  }\n",
    "  if (weird_dice() >= 13) {\n",
    "    return(1)\n",
    "  }\n",
    "  # none of the first rolls is \n",
    "  return(0)\n",
    "}\n",
    "\n",
    "weird_dice_rolled_3x()"
   ]
  },
  {
   "cell_type": "code",
   "execution_count": null,
   "metadata": {},
   "outputs": [],
   "source": [
    "# gotta define weird_dice() but this is not the one from the homework\n",
    "weird_dice <- function() {\n",
    "    d8 <- sample(1:8, size = 1)\n",
    "    d12 <- sample(1:12, size = 1)\n",
    "    return(d8 + d12)\n",
    "}\n",
    "\n",
    "# refactored, a little\n",
    "weird_dice_rolled_3x <- function() {\n",
    "  return_value <- 0\n",
    "  if (weird_dice() >= 13) {\n",
    "    return_value <- 1\n",
    "  }\n",
    "  else if (weird_dice() >= 13) {\n",
    "    return_value <- 1\n",
    "  }\n",
    "  else if (weird_dice() >= 13) {\n",
    "    return_value <- 1\n",
    "  }\n",
    "  else {\n",
    "    return_value <- 0\n",
    "  }\n",
    "    return(return_value)\n",
    "}\n",
    "\n",
    "weird_dice_rolled_3x()"
   ]
  },
  {
   "cell_type": "markdown",
   "metadata": {},
   "source": [
    "I'm going to give it at least another week, maybe more, before I ask you to write any code with conditionals. I just wanted to make it so that you could finish last week's final problem if it was bothering you, you know?"
   ]
  },
  {
   "cell_type": "code",
   "execution_count": null,
   "metadata": {},
   "outputs": [],
   "source": []
  },
  {
   "cell_type": "code",
   "execution_count": null,
   "metadata": {},
   "outputs": [],
   "source": []
  }
 ],
 "metadata": {
  "kernelspec": {
   "display_name": "R",
   "language": "R",
   "name": "ir"
  },
  "language_info": {
   "codemirror_mode": "r",
   "file_extension": ".r",
   "mimetype": "text/x-r-source",
   "name": "R",
   "pygments_lexer": "r",
   "version": "3.6.1"
  }
 },
 "nbformat": 4,
 "nbformat_minor": 4
}
