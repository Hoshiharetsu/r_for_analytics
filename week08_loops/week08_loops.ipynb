{
 "cells": [
  {
   "cell_type": "markdown",
   "metadata": {},
   "source": [
    "# Loops"
   ]
  },
  {
   "cell_type": "markdown",
   "metadata": {},
   "source": [
    "## for loops\n",
    "\n",
    "We'll start by building up a really simple for loop. Then we'll make it more complicated.\n",
    "\n",
    "The basic syntax:\n",
    "```R\n",
    "for temp_var in some_vector:\n",
    "    do something, probably with temp_var\n",
    "```\n",
    "\n",
    "One by one, the value of each item in `some_vector` gets written into `temp_var` until you have looked at every item in `some_vector`\n",
    "\n",
    "You can use `temp_var` after the `for` loop has completed; it'll hold whatever its value was during the final time through the loop.\n",
    "\n",
    "If you want output from your `for` loop to the console, you need to explicitly print it. This isn't a huge deal; we're usually using for loops to write into vectors, not to print to console, so you're going to forget that's even a thing. (I do.) But this, for instance, won't output anything:"
   ]
  },
  {
   "cell_type": "code",
   "execution_count": null,
   "metadata": {},
   "outputs": [],
   "source": [
    "for (x in 1:50) {\n",
    "    x\n",
    "    #print(x)\n",
    "}"
   ]
  },
  {
   "cell_type": "code",
   "execution_count": null,
   "metadata": {},
   "outputs": [],
   "source": [
    "raven <- c(\"Once\", \"upon\", \"a\", \"midnight\", \"dreary\", \"while\", \"I\", \"pondered\")\n",
    "\n",
    "# unpacks, a lot like Python's for loops\n",
    "for (word in raven) { \n",
    "    cat(word)\n",
    "    cat(\" \")\n",
    "    # coming back to this in a minute\n",
    "    #word <- \"coffee\"\n",
    "}\n",
    "\n",
    "raven"
   ]
  },
  {
   "cell_type": "code",
   "execution_count": null,
   "metadata": {},
   "outputs": [],
   "source": [
    "# cat is like print, but it doesn't print the ugly quotation marks\n",
    "print(raven[1])\n",
    "cat(raven[1])\n",
    "# or any spaces\n",
    "cat(raven[2])"
   ]
  },
  {
   "cell_type": "code",
   "execution_count": null,
   "metadata": {},
   "outputs": [],
   "source": [
    "# the book pointed out, you can unpack a vector of numbers, too\n",
    "# and you can use it to index another vector!\n",
    "\n",
    "raven <- c(\"Once\", \"upon\", \"a\", \"midnight\", \"dreary\", \"while\", \"I\", \"pondered\")\n",
    "\n",
    "for (i in 1:length(raven)) {\n",
    "    # and address items by their indices\n",
    "    cat(raven[i])\n",
    "    cat(\" \")\n",
    "    # coming back to this in a moment\n",
    "    #raven[i] <- \"coffee\"\n",
    "}\n",
    "raven"
   ]
  },
  {
   "cell_type": "markdown",
   "metadata": {},
   "source": [
    "### Let's practice a for loop problem together\n",
    "\n",
    "Let's do a classic for loop problem, in R. It's fizzbuzz time!\n",
    "\n",
    "Print the numbers 1-100, _except_ if a number is divisible by 3, print \"fizz\"; if it's divisible by 5, print \"buzz\"; and if it's divisible by both 3 _and_ 5, print \"fizzbuzz\""
   ]
  },
  {
   "cell_type": "code",
   "execution_count": null,
   "metadata": {},
   "outputs": [],
   "source": []
  },
  {
   "cell_type": "markdown",
   "metadata": {},
   "source": [
    "OK, we can loop through a vector, albeit a simple one. We can use a for loop to do some math, and that's good, too. Let's use a for loop to go through a data frame, yeah? (We've done this before. Maybe we should do some examples on the fly, in addition to the one I've prepared?)"
   ]
  },
  {
   "cell_type": "code",
   "execution_count": null,
   "metadata": {},
   "outputs": [],
   "source": [
    "# first, let's get our dataframe\n",
    "clp_wifi <- read.csv(\"clp_wifi.csv\", stringsAsFactors=FALSE)\n",
    "head(clp_wifi)"
   ]
  },
  {
   "cell_type": "markdown",
   "metadata": {},
   "source": [
    "Let's say we wanted to calculate **the number of minutes patrons spent on wifi in each library branch in 2016.** We can combine looping and logical subsetting to do that in very few lines of code:"
   ]
  },
  {
   "cell_type": "code",
   "execution_count": null,
   "metadata": {},
   "outputs": [],
   "source": [
    "libraries <- unique(clp_wifi$Name)\n",
    "minutes_in_2016 <- vector()\n",
    "\n",
    "for (library in libraries) {\n",
    "    temp <- sum(clp_wifi$WifiMinutes[clp_wifi$Name == library & clp_wifi$Year == 2016])\n",
    "    minutes_in_2016 <- c(minutes_in_2016, temp)\n",
    "}\n",
    "\n",
    "names(minutes_in_2016) <- libraries\n",
    "\n",
    "minutes_in_2016"
   ]
  },
  {
   "cell_type": "code",
   "execution_count": null,
   "metadata": {},
   "outputs": [],
   "source": [
    "# by giving our vector names, we've also pretty much made a lookup table:\n",
    "minutes_in_2016[\"SQUIRREL HILL LIBRARY\"]"
   ]
  },
  {
   "cell_type": "markdown",
   "metadata": {},
   "source": [
    "### Getting fancy\n",
    "\n",
    "Probably I'm just being a Python programmer about this, but ... eh. Let's go on this fun little digression, anyway, shall we? I think this is useful.\n",
    "\n",
    "Remember when we were looking at logical operators, and we couldn't find \"Squirrel Hill Library\" if we just used \"Squirrel\"? I hated that, so I wanted to teach you a trick. What if we want to search through our list of libraries and see if there's one with the word \"Squirrel\" in it?\n",
    "\n",
    "We can use `stringr::str_detect()` for this. It takes two arguments: the string you're looking in and the substring you're looking for."
   ]
  },
  {
   "cell_type": "code",
   "execution_count": null,
   "metadata": {},
   "outputs": [],
   "source": [
    "# the function of interest comes from stringr\n",
    "library(stringr)\n",
    "\n",
    "# in case we aren't sure there are any squirrel libraries\n",
    "exact_match <- 0\n",
    "\n",
    "# let's go through our list of libraries\n",
    "for (library in libraries) {\n",
    "    # if we find \"squirrel\" in the name of the library (when both are lowercase)\n",
    "    if (str_detect(tolower(library), \"squirrel\")){\n",
    "        # print it for us to see now\n",
    "        print(library)\n",
    "        # and save it\n",
    "        exact_match <- library\n",
    "    }\n",
    "}\n",
    "\n",
    "# and now we can use exact_match to pull items out of our column if needed"
   ]
  },
  {
   "cell_type": "code",
   "execution_count": null,
   "metadata": {},
   "outputs": [],
   "source": [
    "# ok now we're really going down a rabbit hole\n",
    "\n",
    "getLib <- function(search_name) {\n",
    "    # let's go through our list of libraries\n",
    "    # in case we aren't sure there are any squirrel libraries\n",
    "    exact_match <- 0\n",
    "    for (library in libraries) {\n",
    "        # if we find \"squirrel\" in the name of the library (when both are lowercase)\n",
    "        if (str_detect(tolower(library), search_name)){\n",
    "            # save it\n",
    "            exact_match <- library\n",
    "        }\n",
    "    }\n",
    "    return(exact_match)\n",
    "}\n",
    "\n",
    "# we can get user input! (not a thing you do often in R)\n",
    "lib <- readline(prompt = \"Enter library name: \")\n",
    "\n",
    "cat(\"The exact name you need to use in the data frame is \")\n",
    "cat(getLib(lib))"
   ]
  },
  {
   "cell_type": "markdown",
   "metadata": {},
   "source": [
    "Realistically, you aren't going to be matching user input to your data frames in R all that often.\n",
    "\n",
    "But.\n",
    "\n",
    "The part where you can get out the exact value you need for a query, even with an imperfect memory: well, look, if you're anything like me, it's going to help you. (Imagine, also, that our data entry was in some way imperfect. I know. Farfetched. But it could happen. :))\n",
    "\n",
    "## while loops\n",
    "\n",
    "Not used a whole ton in R, but worth seeing at least once.\n",
    "\n",
    "The syntax:\n",
    "\n",
    "```R\n",
    "while (condition) {\n",
    "    do something\n",
    "    and CHANGE THE VALUE YOU ARE TESTING ON\n",
    "}\n",
    "```"
   ]
  },
  {
   "cell_type": "code",
   "execution_count": null,
   "metadata": {},
   "outputs": [],
   "source": [
    "# a classic example: create the fibonacci sequence up to n\n",
    "# (n is 100, but could be anything)\n",
    "fib_current <- 1\n",
    "fib_last <- 0\n",
    "\n",
    "while (fib_current < 100) {\n",
    "  cat(fib_current)\n",
    "  cat(\" \")\n",
    "  fib_current <- fib_current + fib_last\n",
    "  fib_last <- fib_current - fib_last\n",
    "}"
   ]
  },
  {
   "cell_type": "code",
   "execution_count": null,
   "metadata": {},
   "outputs": [],
   "source": [
    "user_value <- \"00000\"\n",
    "\n",
    "# whew, look at that input validation loop\n",
    "while (getLib(user_value) == 0) {\n",
    "    user_value <- readline(prompt = \"Enter library name: \")\n",
    "}\n",
    "getLib(user_value)"
   ]
  },
  {
   "cell_type": "markdown",
   "metadata": {},
   "source": [
    "### OK, now let's do a while loop problem together!\n",
    "\n",
    "Let us, as a group, poke at the Collatz conjecture, to practice some ifs and whiles. Briefly stated:\n",
    "\n",
    "Consider the following operation on an arbitrary positive integer:\n",
    "\n",
    "    * If the number is even, divide it by two.\n",
    "    * If the number is odd, triple it and add one.\n",
    "\n",
    "For instance, starting with n = 12, one gets the sequence 12, 6, 3, 10, 5, 16, 8, 4, 2, 1. The sequence is sometimes referred to as the \"hailstone sequence\" for a number. The number of steps it takes to get to 1 is the \"total stopping time\" of a number. For 12, the stopping time is 9.\n",
    "\n",
    "The Collatz conjecture is: This process will eventually reach the number 1, regardless of which positive integer is chosen initially. We aren't setting out to disprove that; it's been tried for every number up to INT_MAX in C, anyway.\n",
    "\n",
    "But we're going to let a user specify a number for us, and we will tell them the stopping time of the hailstone sequence."
   ]
  },
  {
   "cell_type": "code",
   "execution_count": null,
   "metadata": {},
   "outputs": [],
   "source": []
  },
  {
   "cell_type": "code",
   "execution_count": null,
   "metadata": {},
   "outputs": [],
   "source": []
  },
  {
   "cell_type": "markdown",
   "metadata": {},
   "source": [
    "### And finally, repeat\n",
    "\n",
    "If you are one of those folks who love to do a `while (TRUE) { ... break;)` you're going to love `repeat`. 'Cause that's all it is.\n",
    "\n",
    "The syntax:\n",
    "\n",
    "```R\n",
    "repeat {\n",
    "    do some stuff\n",
    "    if (something) {\n",
    "        break\n",
    "    }\n",
    "}\n",
    "```\n",
    "\n",
    "I think we can probably refactor our Collatz code to work in a repeat. Let's do that."
   ]
  },
  {
   "cell_type": "code",
   "execution_count": null,
   "metadata": {},
   "outputs": [],
   "source": []
  }
 ],
 "metadata": {
  "kernelspec": {
   "display_name": "R",
   "language": "R",
   "name": "ir"
  },
  "language_info": {
   "codemirror_mode": "r",
   "file_extension": ".r",
   "mimetype": "text/x-r-source",
   "name": "R",
   "pygments_lexer": "r",
   "version": "3.6.1"
  }
 },
 "nbformat": 4,
 "nbformat_minor": 4
}
